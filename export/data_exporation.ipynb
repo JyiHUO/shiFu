{
 "cells": [
  {
   "cell_type": "code",
   "execution_count": 15,
   "metadata": {},
   "outputs": [],
   "source": [
    "import pandas as pd\n",
    "import numpy as np\n",
    "import os\n",
    "import subprocess\n",
    "import torch"
   ]
  },
  {
   "cell_type": "code",
   "execution_count": 10,
   "metadata": {},
   "outputs": [],
   "source": [
    "data = pd.read_csv('../../cache/track2/tmp/val.csv')\n",
    "test = pd.read_csv(\"../../cache/track2/tmp/test.csv\")"
   ]
  },
  {
   "cell_type": "code",
   "execution_count": 11,
   "metadata": {},
   "outputs": [
    {
     "data": {
      "text/plain": [
       "Index(['uid', 'user_city', 'item_id', 'author_id', 'item_city', 'channel',\n",
       "       'finish', 'like', 'music_id', 'device', 'create_time', 'duration_time',\n",
       "       'fl_00', 'fl_01', 'fl_11', 'fl_10', 'target'],\n",
       "      dtype='object')"
      ]
     },
     "execution_count": 11,
     "metadata": {},
     "output_type": "execute_result"
    }
   ],
   "source": [
    "data.columns"
   ]
  },
  {
   "cell_type": "code",
   "execution_count": 12,
   "metadata": {},
   "outputs": [
    {
     "data": {
      "text/html": [
       "<div>\n",
       "<style scoped>\n",
       "    .dataframe tbody tr th:only-of-type {\n",
       "        vertical-align: middle;\n",
       "    }\n",
       "\n",
       "    .dataframe tbody tr th {\n",
       "        vertical-align: top;\n",
       "    }\n",
       "\n",
       "    .dataframe thead th {\n",
       "        text-align: right;\n",
       "    }\n",
       "</style>\n",
       "<table border=\"1\" class=\"dataframe\">\n",
       "  <thead>\n",
       "    <tr style=\"text-align: right;\">\n",
       "      <th></th>\n",
       "      <th>uid</th>\n",
       "      <th>user_city</th>\n",
       "      <th>item_id</th>\n",
       "      <th>author_id</th>\n",
       "      <th>item_city</th>\n",
       "      <th>channel</th>\n",
       "      <th>finish</th>\n",
       "      <th>like</th>\n",
       "      <th>music_id</th>\n",
       "      <th>device</th>\n",
       "      <th>create_time</th>\n",
       "      <th>duration_time</th>\n",
       "      <th>fl_00</th>\n",
       "      <th>fl_01</th>\n",
       "      <th>fl_11</th>\n",
       "      <th>fl_10</th>\n",
       "      <th>target</th>\n",
       "    </tr>\n",
       "  </thead>\n",
       "  <tbody>\n",
       "    <tr>\n",
       "      <th>0</th>\n",
       "      <td>34959</td>\n",
       "      <td>101</td>\n",
       "      <td>997550</td>\n",
       "      <td>123224</td>\n",
       "      <td>32</td>\n",
       "      <td>0</td>\n",
       "      <td>0</td>\n",
       "      <td>0</td>\n",
       "      <td>0</td>\n",
       "      <td>55727</td>\n",
       "      <td>53087051530</td>\n",
       "      <td>21</td>\n",
       "      <td>0</td>\n",
       "      <td>0</td>\n",
       "      <td>0</td>\n",
       "      <td>0</td>\n",
       "      <td>0</td>\n",
       "    </tr>\n",
       "    <tr>\n",
       "      <th>1</th>\n",
       "      <td>36294</td>\n",
       "      <td>294</td>\n",
       "      <td>122313</td>\n",
       "      <td>43720</td>\n",
       "      <td>5</td>\n",
       "      <td>0</td>\n",
       "      <td>0</td>\n",
       "      <td>0</td>\n",
       "      <td>9054</td>\n",
       "      <td>73892</td>\n",
       "      <td>53086447195</td>\n",
       "      <td>6</td>\n",
       "      <td>0</td>\n",
       "      <td>0</td>\n",
       "      <td>0</td>\n",
       "      <td>0</td>\n",
       "      <td>0</td>\n",
       "    </tr>\n",
       "    <tr>\n",
       "      <th>2</th>\n",
       "      <td>32775</td>\n",
       "      <td>116</td>\n",
       "      <td>668251</td>\n",
       "      <td>339</td>\n",
       "      <td>109</td>\n",
       "      <td>0</td>\n",
       "      <td>1</td>\n",
       "      <td>0</td>\n",
       "      <td>0</td>\n",
       "      <td>44050</td>\n",
       "      <td>53086430889</td>\n",
       "      <td>7</td>\n",
       "      <td>0</td>\n",
       "      <td>0</td>\n",
       "      <td>0</td>\n",
       "      <td>3</td>\n",
       "      <td>3</td>\n",
       "    </tr>\n",
       "    <tr>\n",
       "      <th>3</th>\n",
       "      <td>38078</td>\n",
       "      <td>23</td>\n",
       "      <td>715602</td>\n",
       "      <td>14527</td>\n",
       "      <td>141</td>\n",
       "      <td>0</td>\n",
       "      <td>1</td>\n",
       "      <td>0</td>\n",
       "      <td>0</td>\n",
       "      <td>46759</td>\n",
       "      <td>53085566616</td>\n",
       "      <td>9</td>\n",
       "      <td>0</td>\n",
       "      <td>0</td>\n",
       "      <td>0</td>\n",
       "      <td>3</td>\n",
       "      <td>3</td>\n",
       "    </tr>\n",
       "    <tr>\n",
       "      <th>4</th>\n",
       "      <td>30889</td>\n",
       "      <td>82</td>\n",
       "      <td>139364</td>\n",
       "      <td>9612</td>\n",
       "      <td>0</td>\n",
       "      <td>0</td>\n",
       "      <td>0</td>\n",
       "      <td>0</td>\n",
       "      <td>0</td>\n",
       "      <td>2460</td>\n",
       "      <td>53086065468</td>\n",
       "      <td>6</td>\n",
       "      <td>0</td>\n",
       "      <td>0</td>\n",
       "      <td>0</td>\n",
       "      <td>0</td>\n",
       "      <td>0</td>\n",
       "    </tr>\n",
       "  </tbody>\n",
       "</table>\n",
       "</div>"
      ],
      "text/plain": [
       "     uid  user_city  item_id  author_id  item_city  channel  finish  like  \\\n",
       "0  34959        101   997550     123224         32        0       0     0   \n",
       "1  36294        294   122313      43720          5        0       0     0   \n",
       "2  32775        116   668251        339        109        0       1     0   \n",
       "3  38078         23   715602      14527        141        0       1     0   \n",
       "4  30889         82   139364       9612          0        0       0     0   \n",
       "\n",
       "   music_id  device  create_time  duration_time  fl_00  fl_01  fl_11  fl_10  \\\n",
       "0         0   55727  53087051530             21      0      0      0      0   \n",
       "1      9054   73892  53086447195              6      0      0      0      0   \n",
       "2         0   44050  53086430889              7      0      0      0      3   \n",
       "3         0   46759  53085566616              9      0      0      0      3   \n",
       "4         0    2460  53086065468              6      0      0      0      0   \n",
       "\n",
       "   target  \n",
       "0       0  \n",
       "1       0  \n",
       "2       3  \n",
       "3       3  \n",
       "4       0  "
      ]
     },
     "execution_count": 12,
     "metadata": {},
     "output_type": "execute_result"
    }
   ],
   "source": [
    "data.head()"
   ]
  },
  {
   "cell_type": "code",
   "execution_count": 6,
   "metadata": {},
   "outputs": [
    {
     "name": "stdout",
     "output_type": "stream",
     "text": [
      "uid : 0\n",
      "user_city : 0\n",
      "item_id : 0\n",
      "author_id : 0\n",
      "item_city : 0\n",
      "channel : 0\n",
      "finish : 2761799\n",
      "like : 2761799\n",
      "music_id : 0\n",
      "device : 0\n",
      "create_time : 0\n",
      "duration_time : 0\n",
      "fl_00 : 0\n",
      "fl_01 : 0\n",
      "fl_11 : 0\n",
      "fl_10 : 0\n"
     ]
    }
   ],
   "source": [
    "for i in test.columns:\n",
    "    print (i, \":\",np.sum(test[i] == -1))"
   ]
  },
  {
   "cell_type": "code",
   "execution_count": 13,
   "metadata": {},
   "outputs": [
    {
     "name": "stdout",
     "output_type": "stream",
     "text": [
      "uid : 189\n",
      "user_city : 750646\n",
      "item_id : 4\n",
      "author_id : 2884\n",
      "item_city : 157358\n",
      "channel : 3137809\n",
      "finish : 2439245\n",
      "like : 3880930\n",
      "music_id : 2508138\n",
      "device : 216\n",
      "create_time : 0\n",
      "duration_time : 56\n",
      "fl_00 : 3924468\n",
      "fl_01 : 3903719\n",
      "fl_11 : 3901679\n",
      "fl_10 : 2462034\n",
      "target : 2418496\n"
     ]
    }
   ],
   "source": [
    "for i in data.columns:\n",
    "    print (i, \":\",np.sum(data[i] == 0))"
   ]
  },
  {
   "cell_type": "code",
   "execution_count": 14,
   "metadata": {},
   "outputs": [
    {
     "data": {
      "text/plain": [
       "0    2418496\n",
       "3    1462434\n",
       "2      22789\n",
       "1      20749\n",
       "Name: target, dtype: int64"
      ]
     },
     "execution_count": 14,
     "metadata": {},
     "output_type": "execute_result"
    }
   ],
   "source": [
    "data.target.value_counts()"
   ]
  },
  {
   "cell_type": "code",
   "execution_count": 16,
   "metadata": {},
   "outputs": [],
   "source": [
    "a = torch.from_numpy(np.ones((5,5)))"
   ]
  },
  {
   "cell_type": "code",
   "execution_count": 17,
   "metadata": {},
   "outputs": [
    {
     "data": {
      "text/plain": [
       "tensor([[1., 1.],\n",
       "        [1., 1.],\n",
       "        [1., 1.],\n",
       "        [1., 1.],\n",
       "        [1., 1.]], dtype=torch.float64)"
      ]
     },
     "execution_count": 17,
     "metadata": {},
     "output_type": "execute_result"
    }
   ],
   "source": [
    "a[:, [2,3]]"
   ]
  },
  {
   "cell_type": "code",
   "execution_count": null,
   "metadata": {},
   "outputs": [],
   "source": []
  }
 ],
 "metadata": {
  "kernelspec": {
   "display_name": "Python 3",
   "language": "python",
   "name": "python3"
  },
  "language_info": {
   "codemirror_mode": {
    "name": "ipython",
    "version": 3
   },
   "file_extension": ".py",
   "mimetype": "text/x-python",
   "name": "python",
   "nbconvert_exporter": "python",
   "pygments_lexer": "ipython3",
   "version": "3.6.4"
  }
 },
 "nbformat": 4,
 "nbformat_minor": 2
}
