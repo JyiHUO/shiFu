{
 "cells": [
  {
   "cell_type": "code",
   "execution_count": 1,
   "metadata": {},
   "outputs": [],
   "source": [
    "import pandas as pd\n",
    "import numpy as np\n",
    "import os\n",
    "import subprocess"
   ]
  },
  {
   "cell_type": "code",
   "execution_count": 12,
   "metadata": {},
   "outputs": [],
   "source": [
    "data = pd.read_csv('../../cache/track2/tmp/val.csv')\n",
    "test = pd.read_csv(\"../../cache/track2/tmp/test.csv\")"
   ]
  },
  {
   "cell_type": "code",
   "execution_count": 4,
   "metadata": {},
   "outputs": [
    {
     "data": {
      "text/plain": [
       "Index(['uid', 'user_city', 'item_id', 'author_id', 'item_city', 'channel',\n",
       "       'finish', 'like', 'music_id', 'device', 'create_time', 'duration_time'],\n",
       "      dtype='object')"
      ]
     },
     "execution_count": 4,
     "metadata": {},
     "output_type": "execute_result"
    }
   ],
   "source": [
    "data.columns"
   ]
  },
  {
   "cell_type": "code",
   "execution_count": 13,
   "metadata": {},
   "outputs": [
    {
     "data": {
      "text/html": [
       "<div>\n",
       "<style scoped>\n",
       "    .dataframe tbody tr th:only-of-type {\n",
       "        vertical-align: middle;\n",
       "    }\n",
       "\n",
       "    .dataframe tbody tr th {\n",
       "        vertical-align: top;\n",
       "    }\n",
       "\n",
       "    .dataframe thead th {\n",
       "        text-align: right;\n",
       "    }\n",
       "</style>\n",
       "<table border=\"1\" class=\"dataframe\">\n",
       "  <thead>\n",
       "    <tr style=\"text-align: right;\">\n",
       "      <th></th>\n",
       "      <th>uid</th>\n",
       "      <th>user_city</th>\n",
       "      <th>item_id</th>\n",
       "      <th>author_id</th>\n",
       "      <th>item_city</th>\n",
       "      <th>channel</th>\n",
       "      <th>finish</th>\n",
       "      <th>like</th>\n",
       "      <th>music_id</th>\n",
       "      <th>device</th>\n",
       "      <th>create_time</th>\n",
       "      <th>duration_time</th>\n",
       "    </tr>\n",
       "  </thead>\n",
       "  <tbody>\n",
       "    <tr>\n",
       "      <th>0</th>\n",
       "      <td>34959</td>\n",
       "      <td>100</td>\n",
       "      <td>997550</td>\n",
       "      <td>123224</td>\n",
       "      <td>31</td>\n",
       "      <td>0</td>\n",
       "      <td>0</td>\n",
       "      <td>0</td>\n",
       "      <td>-1</td>\n",
       "      <td>55727</td>\n",
       "      <td>53087051530</td>\n",
       "      <td>21</td>\n",
       "    </tr>\n",
       "    <tr>\n",
       "      <th>1</th>\n",
       "      <td>36294</td>\n",
       "      <td>293</td>\n",
       "      <td>122313</td>\n",
       "      <td>43720</td>\n",
       "      <td>4</td>\n",
       "      <td>0</td>\n",
       "      <td>0</td>\n",
       "      <td>0</td>\n",
       "      <td>9053</td>\n",
       "      <td>73892</td>\n",
       "      <td>53086447195</td>\n",
       "      <td>6</td>\n",
       "    </tr>\n",
       "    <tr>\n",
       "      <th>2</th>\n",
       "      <td>32775</td>\n",
       "      <td>115</td>\n",
       "      <td>668251</td>\n",
       "      <td>339</td>\n",
       "      <td>108</td>\n",
       "      <td>0</td>\n",
       "      <td>1</td>\n",
       "      <td>0</td>\n",
       "      <td>-1</td>\n",
       "      <td>44050</td>\n",
       "      <td>53086430889</td>\n",
       "      <td>7</td>\n",
       "    </tr>\n",
       "    <tr>\n",
       "      <th>3</th>\n",
       "      <td>38078</td>\n",
       "      <td>22</td>\n",
       "      <td>715602</td>\n",
       "      <td>14527</td>\n",
       "      <td>140</td>\n",
       "      <td>0</td>\n",
       "      <td>1</td>\n",
       "      <td>0</td>\n",
       "      <td>-1</td>\n",
       "      <td>46759</td>\n",
       "      <td>53085566616</td>\n",
       "      <td>9</td>\n",
       "    </tr>\n",
       "    <tr>\n",
       "      <th>4</th>\n",
       "      <td>30889</td>\n",
       "      <td>81</td>\n",
       "      <td>139364</td>\n",
       "      <td>9612</td>\n",
       "      <td>-1</td>\n",
       "      <td>0</td>\n",
       "      <td>0</td>\n",
       "      <td>0</td>\n",
       "      <td>-1</td>\n",
       "      <td>2460</td>\n",
       "      <td>53086065468</td>\n",
       "      <td>6</td>\n",
       "    </tr>\n",
       "  </tbody>\n",
       "</table>\n",
       "</div>"
      ],
      "text/plain": [
       "     uid  user_city  item_id  author_id  item_city  channel  finish  like  \\\n",
       "0  34959        100   997550     123224         31        0       0     0   \n",
       "1  36294        293   122313      43720          4        0       0     0   \n",
       "2  32775        115   668251        339        108        0       1     0   \n",
       "3  38078         22   715602      14527        140        0       1     0   \n",
       "4  30889         81   139364       9612         -1        0       0     0   \n",
       "\n",
       "   music_id  device  create_time  duration_time  \n",
       "0        -1   55727  53087051530             21  \n",
       "1      9053   73892  53086447195              6  \n",
       "2        -1   44050  53086430889              7  \n",
       "3        -1   46759  53085566616              9  \n",
       "4        -1    2460  53086065468              6  "
      ]
     },
     "execution_count": 13,
     "metadata": {},
     "output_type": "execute_result"
    }
   ],
   "source": [
    "data.head()"
   ]
  },
  {
   "cell_type": "code",
   "execution_count": 16,
   "metadata": {},
   "outputs": [
    {
     "name": "stdout",
     "output_type": "stream",
     "text": [
      "uid : 0\n",
      "user_city : 750646\n",
      "item_id : 0\n",
      "author_id : 0\n",
      "item_city : 157358\n",
      "channel : 0\n",
      "finish : 0\n",
      "like : 0\n",
      "music_id : 2508138\n",
      "device : 0\n",
      "create_time : 0\n",
      "duration_time : 0\n"
     ]
    }
   ],
   "source": [
    "for i in test.columns:\n",
    "    print (i, \":\",np.sum(data[i] == -1))"
   ]
  },
  {
   "cell_type": "code",
   "execution_count": 17,
   "metadata": {},
   "outputs": [
    {
     "name": "stdout",
     "output_type": "stream",
     "text": [
      "uid : 189\n",
      "user_city : 3428\n",
      "item_id : 4\n",
      "author_id : 2884\n",
      "item_city : 37964\n",
      "channel : 3137809\n",
      "finish : 2439245\n",
      "like : 3880930\n",
      "music_id : 0\n",
      "device : 216\n",
      "create_time : 0\n",
      "duration_time : 56\n"
     ]
    }
   ],
   "source": [
    "for i in data.columns:\n",
    "    print (i, \":\",np.sum(data[i] == 0))"
   ]
  },
  {
   "cell_type": "code",
   "execution_count": null,
   "metadata": {},
   "outputs": [],
   "source": []
  }
 ],
 "metadata": {
  "kernelspec": {
   "display_name": "Python 3",
   "language": "python",
   "name": "python3"
  },
  "language_info": {
   "codemirror_mode": {
    "name": "ipython",
    "version": 3
   },
   "file_extension": ".py",
   "mimetype": "text/x-python",
   "name": "python",
   "nbconvert_exporter": "python",
   "pygments_lexer": "ipython3",
   "version": "3.6.4"
  }
 },
 "nbformat": 4,
 "nbformat_minor": 2
}
