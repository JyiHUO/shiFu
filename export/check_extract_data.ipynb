{
 "cells": [
  {
   "cell_type": "code",
   "execution_count": 1,
   "metadata": {},
   "outputs": [],
   "source": [
    "import pandas as pd\n",
    "import numpy as np\n",
    "import json\n",
    "import ast\n",
    "import matplotlib.pyplot as plt\n",
    "%matplotlib inline"
   ]
  },
  {
   "cell_type": "code",
   "execution_count": 2,
   "metadata": {},
   "outputs": [],
   "source": [
    "title = []\n",
    "with open(\"../../data/track2/track2_title.txt\") as f:\n",
    "    for i in f:\n",
    "        # print (i)\n",
    "        a = ast.literal_eval(i)\n",
    "        # print (a)\n",
    "        title.append(a)"
   ]
  },
  {
   "cell_type": "code",
   "execution_count": 3,
   "metadata": {},
   "outputs": [
    {
     "data": {
      "text/plain": [
       "3114071"
      ]
     },
     "execution_count": 3,
     "metadata": {},
     "output_type": "execute_result"
    }
   ],
   "source": [
    "len(title)"
   ]
  },
  {
   "cell_type": "code",
   "execution_count": 4,
   "metadata": {},
   "outputs": [
    {
     "data": {
      "text/plain": [
       "[{'item_id': 4036886,\n",
       "  'title_features': {'1': 1, '2': 1, '3': 1, '4': 1, '5': 1, '6': 1}},\n",
       " {'item_id': 2893187, 'title_features': {'7': 1, '8': 1, '9': 1}},\n",
       " {'item_id': 338441,\n",
       "  'title_features': {'10': 1,\n",
       "   '11': 1,\n",
       "   '12': 1,\n",
       "   '13': 1,\n",
       "   '14': 1,\n",
       "   '15': 1,\n",
       "   '16': 1,\n",
       "   '17': 1,\n",
       "   '18': 1}},\n",
       " {'item_id': 1240180,\n",
       "  'title_features': {'19': 1, '20': 1, '21': 1, '22': 1, '23': 1, '24': 1}},\n",
       " {'item_id': 3284362,\n",
       "  'title_features': {'25': 1,\n",
       "   '26': 1,\n",
       "   '27': 1,\n",
       "   '28': 1,\n",
       "   '29': 1,\n",
       "   '30': 1,\n",
       "   '31': 1,\n",
       "   '32': 1,\n",
       "   '33': 1}},\n",
       " {'item_id': 1894024, 'title_features': {'34': 1, '35': 1}},\n",
       " {'item_id': 3351895,\n",
       "  'title_features': {'3': 1,\n",
       "   '36': 1,\n",
       "   '37': 1,\n",
       "   '38': 1,\n",
       "   '39': 1,\n",
       "   '4': 1,\n",
       "   '40': 1,\n",
       "   '41': 1,\n",
       "   '42': 1,\n",
       "   '43': 1,\n",
       "   '44': 1,\n",
       "   '45': 1,\n",
       "   '46': 1,\n",
       "   '47': 1}},\n",
       " {'item_id': 3076458, 'title_features': {'48': 1}},\n",
       " {'item_id': 1657802,\n",
       "  'title_features': {'4': 1,\n",
       "   '49': 1,\n",
       "   '50': 1,\n",
       "   '51': 2,\n",
       "   '52': 1,\n",
       "   '53': 1,\n",
       "   '54': 1,\n",
       "   '55': 1,\n",
       "   '56': 1,\n",
       "   '57': 1,\n",
       "   '58': 1}},\n",
       " {'item_id': 318399,\n",
       "  'title_features': {'3': 1, '4': 1, '59': 1, '60': 1, '61': 1, '62': 1}}]"
      ]
     },
     "execution_count": 4,
     "metadata": {},
     "output_type": "execute_result"
    }
   ],
   "source": [
    "title[:10]"
   ]
  },
  {
   "cell_type": "code",
   "execution_count": 7,
   "metadata": {},
   "outputs": [
    {
     "name": "stdout",
     "output_type": "stream",
     "text": [
      "{\"item_id\": 48318, \"face_attrs\": []}\n",
      "\n"
     ]
    }
   ],
   "source": [
    "with open(\"../../data/track2/track2_face_attrs.txt\") as f:\n",
    "    for i in f:\n",
    "        print (i)\n",
    "        break"
   ]
  },
  {
   "cell_type": "code",
   "execution_count": 10,
   "metadata": {},
   "outputs": [
    {
     "data": {
      "text/plain": [
       "dict_values([1, 1, 1, 1, 1, 1])"
      ]
     },
     "execution_count": 10,
     "metadata": {},
     "output_type": "execute_result"
    }
   ],
   "source": [
    "title[0][\"title_features\"].values()"
   ]
  },
  {
   "cell_type": "code",
   "execution_count": 11,
   "metadata": {},
   "outputs": [],
   "source": [
    "l = []\n",
    "for i in title:\n",
    "    l.append(sum(i[\"title_features\"].values()) )"
   ]
  },
  {
   "cell_type": "code",
   "execution_count": 16,
   "metadata": {},
   "outputs": [],
   "source": [
    "a = pd.Series(l)"
   ]
  },
  {
   "cell_type": "code",
   "execution_count": 26,
   "metadata": {},
   "outputs": [
    {
     "data": {
      "text/plain": [
       "<matplotlib.axes._subplots.AxesSubplot at 0x1db019390>"
      ]
     },
     "execution_count": 26,
     "metadata": {},
     "output_type": "execute_result"
    },
    {
     "data": {
      "image/png": "[encoded data removed]",
      "text/plain": [
       "<matplotlib.figure.Figure at 0x1db019a20>"
      ]
     },
     "metadata": {},
     "output_type": "display_data"
    }
   ],
   "source": [
    "plt.figure(figsize=(20,10))\n",
    "a.value_counts().plot(kind=\"bar\")"
   ]
  },
  {
   "cell_type": "code",
   "execution_count": 27,
   "metadata": {},
   "outputs": [
    {
     "data": {
      "text/plain": [
       "7.612910559842727"
      ]
     },
     "execution_count": 27,
     "metadata": {},
     "output_type": "execute_result"
    }
   ],
   "source": [
    "np.mean(l)"
   ]
  },
  {
   "cell_type": "code",
   "execution_count": 28,
   "metadata": {},
   "outputs": [
    {
     "data": {
      "text/plain": [
       "3114071"
      ]
     },
     "execution_count": 28,
     "metadata": {},
     "output_type": "execute_result"
    }
   ],
   "source": [
    "len(l)"
   ]
  },
  {
   "cell_type": "code",
   "execution_count": 29,
   "metadata": {},
   "outputs": [
    {
     "data": {
      "text/plain": [
       "dict_keys(['1', '2', '3', '4', '5', '6'])"
      ]
     },
     "execution_count": 29,
     "metadata": {},
     "output_type": "execute_result"
    }
   ],
   "source": [
    "title[0][\"title_features\"].keys()"
   ]
  },
  {
   "cell_type": "code",
   "execution_count": 35,
   "metadata": {},
   "outputs": [],
   "source": [
    "c = set()\n",
    "for i in title:\n",
    "    for j in i[\"title_features\"].keys():\n",
    "        if j =='0':\n",
    "            print (i)\n",
    "        c.add(j)"
   ]
  },
  {
   "cell_type": "code",
   "execution_count": 32,
   "metadata": {},
   "outputs": [
    {
     "data": {
      "text/plain": [
       "134544"
      ]
     },
     "execution_count": 32,
     "metadata": {},
     "output_type": "execute_result"
    }
   ],
   "source": [
    "len(c)"
   ]
  },
  {
   "cell_type": "code",
   "execution_count": 36,
   "metadata": {},
   "outputs": [
    {
     "data": {
      "text/plain": [
       "3114071"
      ]
     },
     "execution_count": 36,
     "metadata": {},
     "output_type": "execute_result"
    }
   ],
   "source": [
    "len(title)"
   ]
  },
  {
   "cell_type": "code",
   "execution_count": 42,
   "metadata": {},
   "outputs": [],
   "source": [
    "data = np.zeros((len(title), 31))\n",
    "for i, v in enumerate(title):\n",
    "    data[i, 0] = v[\"item_id\"]\n",
    "    c = 1\n",
    "    for j in v[\"title_features\"].keys():\n",
    "        if c > 30:\n",
    "            break\n",
    "        for z in range(v[\"title_features\"][j]): \n",
    "            if c > 30:\n",
    "                break\n",
    "            data[i, c] = int(j)\n",
    "            c += 1"
   ]
  },
  {
   "cell_type": "code",
   "execution_count": null,
   "metadata": {},
   "outputs": [],
   "source": []
  },
  {
   "cell_type": "code",
   "execution_count": null,
   "metadata": {},
   "outputs": [],
   "source": []
  }
 ],
 "metadata": {
  "kernelspec": {
   "display_name": "Python 3",
   "language": "python",
   "name": "python3"
  },
  "language_info": {
   "codemirror_mode": {
    "name": "ipython",
    "version": 3
   },
   "file_extension": ".py",
   "mimetype": "text/x-python",
   "name": "python",
   "nbconvert_exporter": "python",
   "pygments_lexer": "ipython3",
   "version": "3.6.4"
  }
 },
 "nbformat": 4,
 "nbformat_minor": 2
}
